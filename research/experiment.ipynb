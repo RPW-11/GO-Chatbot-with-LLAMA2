{
 "cells": [
  {
   "cell_type": "code",
   "execution_count": 1,
   "metadata": {},
   "outputs": [
    {
     "name": "stderr",
     "output_type": "stream",
     "text": [
      "/Users/rainataputra/Projects/GOLANG_BOOK_CHATBOT_LLAMA2/.venv/lib/python3.8/site-packages/urllib3/__init__.py:35: NotOpenSSLWarning: urllib3 v2 only supports OpenSSL 1.1.1+, currently the 'ssl' module is compiled with 'LibreSSL 2.8.3'. See: https://github.com/urllib3/urllib3/issues/3020\n",
      "  warnings.warn(\n",
      "/Users/rainataputra/Projects/GOLANG_BOOK_CHATBOT_LLAMA2/.venv/lib/python3.8/site-packages/pinecone/data/index.py:1: TqdmWarning: IProgress not found. Please update jupyter and ipywidgets. See https://ipywidgets.readthedocs.io/en/stable/user_install.html\n",
      "  from tqdm.autonotebook import tqdm\n"
     ]
    }
   ],
   "source": [
    "from langchain_community.llms import LlamaCpp\n",
    "from langchain.chains import RetrievalQA\n",
    "from langchain.embeddings import HuggingFaceEmbeddings\n",
    "from langchain.vectorstores import Pinecone as PineconeVecDb\n",
    "from langchain.document_loaders import PyPDFLoader, DirectoryLoader\n",
    "from langchain.text_splitter import RecursiveCharacterTextSplitter\n",
    "from langchain.prompts import PromptTemplate\n",
    "from pinecone import Pinecone\n",
    "\n",
    "from dotenv import load_dotenv\n",
    "import os"
   ]
  },
  {
   "cell_type": "code",
   "execution_count": 18,
   "metadata": {},
   "outputs": [],
   "source": [
    "load_dotenv()\n",
    "PINECONE_API_KEY = os.getenv('PINECONE_API_KEY')\n",
    "PINECONE_ENV_NAME = os.getenv('PINECONE_ENV_NAME')\n",
    "PINECONE_INDEX = os.getenv('PINECONE_INDEX')"
   ]
  },
  {
   "cell_type": "markdown",
   "metadata": {},
   "source": [
    "### Functions"
   ]
  },
  {
   "cell_type": "code",
   "execution_count": 8,
   "metadata": {},
   "outputs": [],
   "source": [
    "# FUNCTIONS\n",
    "def load_data(path: str):\n",
    "    loader = DirectoryLoader(path=path, glob='*.pdf', loader_cls=PyPDFLoader)\n",
    "    return loader.load()\n",
    "\n",
    "def split_text(documents):\n",
    "    text_splitter = RecursiveCharacterTextSplitter(chunk_size=500, chunk_overlap=20)\n",
    "    return text_splitter.split_documents(documents)"
   ]
  },
  {
   "cell_type": "markdown",
   "metadata": {},
   "source": [
    "### Extracting Data"
   ]
  },
  {
   "cell_type": "code",
   "execution_count": 9,
   "metadata": {},
   "outputs": [],
   "source": [
    "extracted_data = load_data('documents/')\n",
    "overlap_data = split_text(extracted_data)"
   ]
  },
  {
   "cell_type": "code",
   "execution_count": 13,
   "metadata": {},
   "outputs": [
    {
     "name": "stderr",
     "output_type": "stream",
     "text": [
      "/Users/rainataputra/Projects/GOLANG_BOOK_CHATBOT_LLAMA2/.venv/lib/python3.8/site-packages/tqdm/auto.py:21: TqdmWarning: IProgress not found. Please update jupyter and ipywidgets. See https://ipywidgets.readthedocs.io/en/stable/user_install.html\n",
      "  from .autonotebook import tqdm as notebook_tqdm\n"
     ]
    }
   ],
   "source": [
    "embeddings = HuggingFaceEmbeddings(model_name='sentence-transformers/paraphrase-MiniLM-L6-v2')"
   ]
  },
  {
   "cell_type": "code",
   "execution_count": 28,
   "metadata": {},
   "outputs": [],
   "source": [
    "# init pinecone\n",
    "pinecone_client = Pinecone(api_key=PINECONE_API_KEY)"
   ]
  },
  {
   "cell_type": "code",
   "execution_count": 33,
   "metadata": {},
   "outputs": [],
   "source": [
    "docsearch = PineconeVecDb.from_documents(overlap_data, embeddings, index_name=PINECONE_INDEX)"
   ]
  },
  {
   "cell_type": "code",
   "execution_count": 36,
   "metadata": {},
   "outputs": [],
   "source": [
    "q = 'What is a micro service?'\n",
    "\n",
    "ans = docsearch.similarity_search(q, k=3)"
   ]
  },
  {
   "cell_type": "code",
   "execution_count": 48,
   "metadata": {},
   "outputs": [],
   "source": [
    "prompt_template = \"\"\"\n",
    "Use the following informations to answer the question. If you don't know the answer, don't try to make it up. Only use the informations given!\n",
    "\n",
    "Context: {context}\n",
    "Question: {question}\n",
    "\n",
    "Only return helpful answers below and nothing else.\n",
    "Answer:\n",
    "\"\"\""
   ]
  },
  {
   "cell_type": "code",
   "execution_count": 49,
   "metadata": {},
   "outputs": [],
   "source": [
    "prompt = PromptTemplate(template=prompt_template, input_variables=['context', 'question'])\n",
    "chain_type_kwargs = {'prompt':prompt}"
   ]
  },
  {
   "cell_type": "code",
   "execution_count": 57,
   "metadata": {},
   "outputs": [],
   "source": [
    "llama2 = LlamaCpp(\n",
    "    model_path='models/llama-2.gguf',\n",
    "    n_gpu_layers=20,\n",
    "    n_batch=256,\n",
    "    verbose=False\n",
    ")"
   ]
  },
  {
   "cell_type": "code",
   "execution_count": 58,
   "metadata": {},
   "outputs": [],
   "source": [
    "qa = RetrievalQA.from_chain_type(\n",
    "    llm=llama2,\n",
    "    chain_type='stuff',\n",
    "    retriever=docsearch.as_retriever(search_kwargs={'k':2}),\n",
    "    return_source_documents=True,\n",
    "    chain_type_kwargs=chain_type_kwargs\n",
    ")"
   ]
  },
  {
   "cell_type": "code",
   "execution_count": 63,
   "metadata": {},
   "outputs": [],
   "source": [
    "res = qa({ \"query\" : \"Why golang?\"})"
   ]
  },
  {
   "cell_type": "code",
   "execution_count": 64,
   "metadata": {},
   "outputs": [
    {
     "name": "stdout",
     "output_type": "stream",
     "text": [
      "Golang is used because it is a good practice to have a stable Go environment for version 1.0.\n"
     ]
    }
   ],
   "source": [
    "print(res['result'])"
   ]
  },
  {
   "cell_type": "code",
   "execution_count": 65,
   "metadata": {},
   "outputs": [
    {
     "name": "stdout",
     "output_type": "stream",
     "text": [
      "Using the provided information and API, I have tried chaining the programs together and got the following results:\n",
      "\n",
      "pitbull is a dog.\n",
      "\n",
      "Therefore, the answer to your question is \"Yes\", pitbull is a dog.\n"
     ]
    }
   ],
   "source": [
    "res = qa({ 'query': 'is pitbull a dog?'})\n",
    "print(res['result'])"
   ]
  },
  {
   "cell_type": "code",
   "execution_count": 66,
   "metadata": {},
   "outputs": [
    {
     "name": "stdout",
     "output_type": "stream",
     "text": [
      "{'query': 'is pitbull a dog?', 'result': 'Using the provided information and API, I have tried chaining the programs together and got the following results:\\n\\npitbull is a dog.\\n\\nTherefore, the answer to your question is \"Yes\", pitbull is a dog.', 'source_documents': [Document(page_content=\"Chapter 4[ 115 ]confabulation\\nschmooze\\nNew World chat\\nOld World chat\\nconversation\\nthrush\\nwood warbler\\nchew the fat\\nshoot the breeze\\nchitchat\\nchatter\\nThe results you get will most likely differ from what we have listed here since we're \\nhitting a live API, but the important aspect here is that when we give a word or term \\nas input to the program, it returns a list of synonyms as output, one per line.\\nTry chaining your programs together in various orders to see what\", metadata={'page': 129.0, 'source': 'documents/Go Microsevices.pdf'}), Document(page_content='you can. For an up-to-date list of what the vet tool will report on, check out the \\ndocumentation at https://godoc.org/code.google.com/p/go.tools/cmd/vet .', metadata={'page': 259.0, 'source': 'documents/Go Microsevices.pdf'})]}\n"
     ]
    }
   ],
   "source": [
    "print(res)"
   ]
  },
  {
   "cell_type": "code",
   "execution_count": null,
   "metadata": {},
   "outputs": [],
   "source": []
  }
 ],
 "metadata": {
  "kernelspec": {
   "display_name": ".venv",
   "language": "python",
   "name": "python3"
  },
  "language_info": {
   "codemirror_mode": {
    "name": "ipython",
    "version": 3
   },
   "file_extension": ".py",
   "mimetype": "text/x-python",
   "name": "python",
   "nbconvert_exporter": "python",
   "pygments_lexer": "ipython3",
   "version": "3.8.2"
  }
 },
 "nbformat": 4,
 "nbformat_minor": 2
}
