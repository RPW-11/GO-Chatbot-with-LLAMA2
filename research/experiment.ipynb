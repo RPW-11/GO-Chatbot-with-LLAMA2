{
 "cells": [
  {
   "cell_type": "code",
   "execution_count": 20,
   "metadata": {},
   "outputs": [],
   "source": [
    "from langchain_community.llms import LlamaCpp\n",
    "from langchain.chains import RetrievalQA\n",
    "from langchain.embeddings import HuggingFaceEmbeddings\n",
    "from langchain.vectorstores import Pinecone as PineconeVecDb\n",
    "from langchain.document_loaders import PyPDFLoader, DirectoryLoader\n",
    "from langchain.text_splitter import RecursiveCharacterTextSplitter, CharacterTextSplitter\n",
    "from langchain.prompts import PromptTemplate, ChatPromptTemplate\n",
    "from langchain_core.runnables import RunnablePassthrough\n",
    "from langchain_core.output_parsers import StrOutputParser\n",
    "from pinecone import Pinecone\n",
    "\n",
    "from dotenv import load_dotenv\n",
    "import os"
   ]
  },
  {
   "cell_type": "code",
   "execution_count": 2,
   "metadata": {},
   "outputs": [],
   "source": [
    "load_dotenv()\n",
    "PINECONE_API_KEY = os.getenv('PINECONE_API_KEY')\n",
    "PINECONE_ENV_NAME = os.getenv('PINECONE_ENV_NAME')\n",
    "PINECONE_INDEX = os.getenv('PINECONE_INDEX')"
   ]
  },
  {
   "cell_type": "markdown",
   "metadata": {},
   "source": [
    "### Functions"
   ]
  },
  {
   "cell_type": "code",
   "execution_count": 3,
   "metadata": {},
   "outputs": [],
   "source": [
    "# FUNCTIONS\n",
    "def load_data(path: str):\n",
    "    loader = DirectoryLoader(path=path, glob='*.pdf', loader_cls=PyPDFLoader)\n",
    "    return loader.load()\n",
    "\n",
    "def split_text(documents):\n",
    "    text_splitter = RecursiveCharacterTextSplitter(chunk_size=256, chunk_overlap=20)\n",
    "    return text_splitter.split_documents(documents)"
   ]
  },
  {
   "cell_type": "markdown",
   "metadata": {},
   "source": [
    "### Extracting Data"
   ]
  },
  {
   "cell_type": "code",
   "execution_count": 17,
   "metadata": {},
   "outputs": [],
   "source": [
    "extracted_data = load_data('../documents/')\n",
    "overlap_data = split_text(extracted_data)"
   ]
  },
  {
   "cell_type": "code",
   "execution_count": 4,
   "metadata": {},
   "outputs": [],
   "source": [
    "embeddings = HuggingFaceEmbeddings(model_name='sentence-transformers/paraphrase-MiniLM-L6-v2')"
   ]
  },
  {
   "cell_type": "code",
   "execution_count": 5,
   "metadata": {},
   "outputs": [],
   "source": [
    "# init pinecone\n",
    "pinecone_client = Pinecone(api_key=PINECONE_API_KEY)"
   ]
  },
  {
   "cell_type": "code",
   "execution_count": 22,
   "metadata": {},
   "outputs": [],
   "source": [
    "docsearch = PineconeVecDb.from_documents(overlap_data, embeddings, index_name=PINECONE_INDEX)"
   ]
  },
  {
   "cell_type": "code",
   "execution_count": 10,
   "metadata": {},
   "outputs": [],
   "source": [
    "_index = PineconeVecDb(embedding=embeddings, index=pinecone_client.Index(PINECONE_INDEX), text_key='text')\n",
    "retriever = _index.as_retriever()"
   ]
  },
  {
   "cell_type": "code",
   "execution_count": 9,
   "metadata": {},
   "outputs": [
    {
     "name": "stdout",
     "output_type": "stream",
     "text": [
      "[Document(page_content='running in different places, provided they have network connectivity to the queue. \\nYour programs are decoupled from others; instead, your designs start to care about \\nthe ins and outs of specialized micro-services, rather than the flow of data through a', metadata={'page': 142.0, 'source': '../documents/Go Microsevices.pdf'}), Document(page_content='components of a system into isolated and specialized micro-services. We started  \\nan instance of NSQ by first running the lookup daemon nsqlookupd , before running \\na single nsqd  instance and connecting them together via a TCP interface. We were', metadata={'page': 170.0, 'source': '../documents/Go Microsevices.pdf'}), Document(page_content=\"as Apple's Time Machine, Seagate, or network-attached storage products, to name \\na few. Most consumer tools provide some key automatic functionality, along with \\nan app or website for you to manage your policies and content. Often, especially for\", metadata={'page': 227.0, 'source': '../documents/Go Microsevices.pdf'})]\n"
     ]
    }
   ],
   "source": [
    "q = 'What is a micro service?'\n",
    "ans = _index.similarity_search(q, k=3)\n",
    "print(ans)"
   ]
  },
  {
   "cell_type": "code",
   "execution_count": 12,
   "metadata": {},
   "outputs": [],
   "source": [
    "prompt_template = \"\"\"\n",
    "Use the following informations to answer the question. If you don't know the answer, don't try to make it up. Only use the informations given!\n",
    "\n",
    "Context: {context}\n",
    "Question: {question}\n",
    "\n",
    "Only return helpful answers below and nothing else.\n",
    "Answer:\n",
    "\"\"\""
   ]
  },
  {
   "cell_type": "code",
   "execution_count": 15,
   "metadata": {},
   "outputs": [],
   "source": [
    "prompt = PromptTemplate(template=prompt_template, input_variables=['context', 'question'])\n",
    "chain_type_kwargs = {'prompt':prompt}\n",
    "\n",
    "prompt2 = ChatPromptTemplate.from_template(template=prompt_template)"
   ]
  },
  {
   "cell_type": "code",
   "execution_count": 17,
   "metadata": {},
   "outputs": [],
   "source": [
    "llama2 = LlamaCpp(\n",
    "    model_path='../models/llama-2.gguf',\n",
    "    n_gpu_layers=-1,\n",
    "    n_batch=512,\n",
    "    verbose=False\n",
    ")"
   ]
  },
  {
   "cell_type": "code",
   "execution_count": 33,
   "metadata": {},
   "outputs": [
    {
     "data": {
      "text/plain": [
       "'The name of your Chemical Romance is Tyler.'"
      ]
     },
     "execution_count": 33,
     "metadata": {},
     "output_type": "execute_result"
    }
   ],
   "source": [
    "chain = (\n",
    "    { \"context\": retriever, \"question\": RunnablePassthrough() }\n",
    "    | prompt2\n",
    "    | llama2\n",
    "    | StrOutputParser()\n",
    ")\n",
    "\n",
    "chain.invoke(\"WHo is my chemical romance?\")"
   ]
  },
  {
   "cell_type": "code",
   "execution_count": 58,
   "metadata": {},
   "outputs": [],
   "source": [
    "qa = RetrievalQA.from_chain_type(\n",
    "    llm=llama2,\n",
    "    chain_type='stuff',\n",
    "    retriever=docsearch.as_retriever(search_kwargs={'k':2}),\n",
    "    return_source_documents=True,\n",
    "    chain_type_kwargs=chain_type_kwargs\n",
    ")"
   ]
  },
  {
   "cell_type": "code",
   "execution_count": 63,
   "metadata": {},
   "outputs": [],
   "source": [
    "res = qa({ \"query\" : \"Why golang?\"})"
   ]
  },
  {
   "cell_type": "code",
   "execution_count": 64,
   "metadata": {},
   "outputs": [
    {
     "name": "stdout",
     "output_type": "stream",
     "text": [
      "Golang is used because it is a good practice to have a stable Go environment for version 1.0.\n"
     ]
    }
   ],
   "source": [
    "print(res['result'])"
   ]
  },
  {
   "cell_type": "code",
   "execution_count": 65,
   "metadata": {},
   "outputs": [
    {
     "name": "stdout",
     "output_type": "stream",
     "text": [
      "Using the provided information and API, I have tried chaining the programs together and got the following results:\n",
      "\n",
      "pitbull is a dog.\n",
      "\n",
      "Therefore, the answer to your question is \"Yes\", pitbull is a dog.\n"
     ]
    }
   ],
   "source": [
    "res = qa({ 'query': 'is pitbull a dog?'})\n",
    "print(res['result'])"
   ]
  },
  {
   "cell_type": "code",
   "execution_count": 66,
   "metadata": {},
   "outputs": [
    {
     "name": "stdout",
     "output_type": "stream",
     "text": [
      "{'query': 'is pitbull a dog?', 'result': 'Using the provided information and API, I have tried chaining the programs together and got the following results:\\n\\npitbull is a dog.\\n\\nTherefore, the answer to your question is \"Yes\", pitbull is a dog.', 'source_documents': [Document(page_content=\"Chapter 4[ 115 ]confabulation\\nschmooze\\nNew World chat\\nOld World chat\\nconversation\\nthrush\\nwood warbler\\nchew the fat\\nshoot the breeze\\nchitchat\\nchatter\\nThe results you get will most likely differ from what we have listed here since we're \\nhitting a live API, but the important aspect here is that when we give a word or term \\nas input to the program, it returns a list of synonyms as output, one per line.\\nTry chaining your programs together in various orders to see what\", metadata={'page': 129.0, 'source': 'documents/Go Microsevices.pdf'}), Document(page_content='you can. For an up-to-date list of what the vet tool will report on, check out the \\ndocumentation at https://godoc.org/code.google.com/p/go.tools/cmd/vet .', metadata={'page': 259.0, 'source': 'documents/Go Microsevices.pdf'})]}\n"
     ]
    }
   ],
   "source": [
    "print(res)"
   ]
  },
  {
   "cell_type": "code",
   "execution_count": null,
   "metadata": {},
   "outputs": [],
   "source": []
  }
 ],
 "metadata": {
  "kernelspec": {
   "display_name": ".venv",
   "language": "python",
   "name": "python3"
  },
  "language_info": {
   "codemirror_mode": {
    "name": "ipython",
    "version": 3
   },
   "file_extension": ".py",
   "mimetype": "text/x-python",
   "name": "python",
   "nbconvert_exporter": "python",
   "pygments_lexer": "ipython3",
   "version": "3.8.2"
  }
 },
 "nbformat": 4,
 "nbformat_minor": 2
}
